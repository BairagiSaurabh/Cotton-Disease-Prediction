{
 "cells": [
  {
   "cell_type": "markdown",
   "id": "c4e6e10b",
   "metadata": {},
   "source": [
    "# Importing Libraries"
   ]
  },
  {
   "cell_type": "code",
   "execution_count": 1,
   "id": "537fd3b5",
   "metadata": {},
   "outputs": [],
   "source": [
    "import pandas as pd\n",
    "import numpy as np\n",
    "import cv2\n",
    "import os\n",
    "import random\n",
    "from keras.models import Sequential\n",
    "from keras.layers import Conv2D , MaxPooling2D ,  Flatten , Dense"
   ]
  },
  {
   "cell_type": "markdown",
   "id": "4d812daa",
   "metadata": {},
   "source": [
    "# Getting data:"
   ]
  },
  {
   "cell_type": "code",
   "execution_count": 2,
   "id": "5abdb4e6",
   "metadata": {},
   "outputs": [],
   "source": [
    "Directory = r'D:\\Data Science\\Internship case studies\\Feynn Labs\\Task_0\\cotton_infection_dir_ready'\n",
    "classes = ['healthy','bacterial_blight','curl_virus','fussarium_wilt']"
   ]
  },
  {
   "cell_type": "markdown",
   "id": "ad70b3c4",
   "metadata": {},
   "source": [
    "# Loading train data:"
   ]
  },
  {
   "cell_type": "code",
   "execution_count": 3,
   "id": "0d8bd8c5",
   "metadata": {},
   "outputs": [],
   "source": [
    "data = []\n",
    "IMG_SIZE = 100\n",
    "for category in classes:\n",
    "    label = classes.index(category)\n",
    "    folder = Directory + '/train/' + category\n",
    "    for img in os.listdir(folder):\n",
    "        img_path = os.path.join(folder , img)\n",
    "        img_arr = cv2.imread(img_path)\n",
    "        if img_arr is None:\n",
    "            pass\n",
    "        else:\n",
    "            img_arr = cv2.resize(img_arr ,(IMG_SIZE,IMG_SIZE))\n",
    "            data.append([img_arr , label])"
   ]
  },
  {
   "cell_type": "code",
   "execution_count": 4,
   "id": "7b7dc05f",
   "metadata": {},
   "outputs": [
    {
     "name": "stdout",
     "output_type": "stream",
     "text": [
      "Number of training points : 1442\n"
     ]
    }
   ],
   "source": [
    "print(\"Number of training points :\",len(data))"
   ]
  },
  {
   "cell_type": "code",
   "execution_count": 5,
   "id": "d6d3bcac",
   "metadata": {},
   "outputs": [],
   "source": [
    "random.shuffle(data) # shuffline the data for some randomness"
   ]
  },
  {
   "cell_type": "code",
   "execution_count": 6,
   "id": "5580ff25",
   "metadata": {},
   "outputs": [],
   "source": [
    "# Storing the features and target variables in seperate list:\n",
    "\n",
    "X,y = [],[]\n",
    "for features ,labels in data:\n",
    "    X.append(features)\n",
    "    y.append(labels)"
   ]
  },
  {
   "cell_type": "code",
   "execution_count": 7,
   "id": "5c85ed44",
   "metadata": {},
   "outputs": [],
   "source": [
    "# Converting list to array:\n",
    "\n",
    "X = np.array(X)\n",
    "y = np.array(y)"
   ]
  },
  {
   "cell_type": "code",
   "execution_count": 8,
   "id": "f7ed4368",
   "metadata": {},
   "outputs": [
    {
     "data": {
      "text/plain": [
       "(1442, 100, 100, 3)"
      ]
     },
     "execution_count": 8,
     "metadata": {},
     "output_type": "execute_result"
    }
   ],
   "source": [
    "X.shape\n",
    "\n",
    "# 1442 - training points\n",
    "# 100 * 100 - image size\n",
    "# 3 - number of channels (RGB)"
   ]
  },
  {
   "cell_type": "code",
   "execution_count": 9,
   "id": "d26c5450",
   "metadata": {},
   "outputs": [
    {
     "data": {
      "text/plain": [
       "array([[[ 35, 116,  86],\n",
       "        [ 23,  56,  62],\n",
       "        [ 19,  36,  55],\n",
       "        ...,\n",
       "        [250, 238, 238],\n",
       "        [252, 240, 240],\n",
       "        [252, 240, 240]],\n",
       "\n",
       "       [[ 35, 120,  97],\n",
       "        [ 19,  65,  72],\n",
       "        [ 19,  35,  55],\n",
       "        ...,\n",
       "        [252, 240, 240],\n",
       "        [252, 240, 240],\n",
       "        [252, 240, 240]],\n",
       "\n",
       "       [[ 29, 104,  91],\n",
       "        [ 30,  72,  81],\n",
       "        [ 20,  37,  56],\n",
       "        ...,\n",
       "        [252, 240, 240],\n",
       "        [252, 240, 240],\n",
       "        [252, 240, 240]],\n",
       "\n",
       "       ...,\n",
       "\n",
       "       [[  0,   6,   0],\n",
       "        [  0,   1,   0],\n",
       "        [  0,   0,   2],\n",
       "        ...,\n",
       "        [255, 255, 255],\n",
       "        [255, 254, 254],\n",
       "        [ 36,  42,  50]],\n",
       "\n",
       "       [[  3,   3,   1],\n",
       "        [  5,   0,   0],\n",
       "        [  5,   0,   1],\n",
       "        ...,\n",
       "        [255, 255, 255],\n",
       "        [255, 255, 255],\n",
       "        [251, 253, 254]],\n",
       "\n",
       "       [[  6,  15,  10],\n",
       "        [ 13,  27,  22],\n",
       "        [ 16,  35,  25],\n",
       "        ...,\n",
       "        [255, 255, 255],\n",
       "        [254, 255, 255],\n",
       "        [255, 255, 254]]], dtype=uint8)"
      ]
     },
     "execution_count": 9,
     "metadata": {},
     "output_type": "execute_result"
    }
   ],
   "source": [
    "X[0]"
   ]
  },
  {
   "cell_type": "code",
   "execution_count": 10,
   "id": "ba71b2ba",
   "metadata": {},
   "outputs": [],
   "source": [
    "X = X/255 # normalizing the array"
   ]
  },
  {
   "cell_type": "code",
   "execution_count": 11,
   "id": "cccde376",
   "metadata": {},
   "outputs": [
    {
     "data": {
      "text/plain": [
       "array([[[0.1372549 , 0.45490196, 0.3372549 ],\n",
       "        [0.09019608, 0.21960784, 0.24313725],\n",
       "        [0.0745098 , 0.14117647, 0.21568627],\n",
       "        ...,\n",
       "        [0.98039216, 0.93333333, 0.93333333],\n",
       "        [0.98823529, 0.94117647, 0.94117647],\n",
       "        [0.98823529, 0.94117647, 0.94117647]],\n",
       "\n",
       "       [[0.1372549 , 0.47058824, 0.38039216],\n",
       "        [0.0745098 , 0.25490196, 0.28235294],\n",
       "        [0.0745098 , 0.1372549 , 0.21568627],\n",
       "        ...,\n",
       "        [0.98823529, 0.94117647, 0.94117647],\n",
       "        [0.98823529, 0.94117647, 0.94117647],\n",
       "        [0.98823529, 0.94117647, 0.94117647]],\n",
       "\n",
       "       [[0.11372549, 0.40784314, 0.35686275],\n",
       "        [0.11764706, 0.28235294, 0.31764706],\n",
       "        [0.07843137, 0.14509804, 0.21960784],\n",
       "        ...,\n",
       "        [0.98823529, 0.94117647, 0.94117647],\n",
       "        [0.98823529, 0.94117647, 0.94117647],\n",
       "        [0.98823529, 0.94117647, 0.94117647]],\n",
       "\n",
       "       ...,\n",
       "\n",
       "       [[0.        , 0.02352941, 0.        ],\n",
       "        [0.        , 0.00392157, 0.        ],\n",
       "        [0.        , 0.        , 0.00784314],\n",
       "        ...,\n",
       "        [1.        , 1.        , 1.        ],\n",
       "        [1.        , 0.99607843, 0.99607843],\n",
       "        [0.14117647, 0.16470588, 0.19607843]],\n",
       "\n",
       "       [[0.01176471, 0.01176471, 0.00392157],\n",
       "        [0.01960784, 0.        , 0.        ],\n",
       "        [0.01960784, 0.        , 0.00392157],\n",
       "        ...,\n",
       "        [1.        , 1.        , 1.        ],\n",
       "        [1.        , 1.        , 1.        ],\n",
       "        [0.98431373, 0.99215686, 0.99607843]],\n",
       "\n",
       "       [[0.02352941, 0.05882353, 0.03921569],\n",
       "        [0.05098039, 0.10588235, 0.08627451],\n",
       "        [0.0627451 , 0.1372549 , 0.09803922],\n",
       "        ...,\n",
       "        [1.        , 1.        , 1.        ],\n",
       "        [0.99607843, 1.        , 1.        ],\n",
       "        [1.        , 1.        , 0.99607843]]])"
      ]
     },
     "execution_count": 11,
     "metadata": {},
     "output_type": "execute_result"
    }
   ],
   "source": [
    "X[0] # after normalizing"
   ]
  },
  {
   "cell_type": "markdown",
   "id": "1a5380f6",
   "metadata": {},
   "source": [
    "# Loading test data :"
   ]
  },
  {
   "cell_type": "code",
   "execution_count": 12,
   "id": "2167ac29",
   "metadata": {},
   "outputs": [],
   "source": [
    "test_data = []\n",
    "for category in classes:\n",
    "    label = classes.index(category)\n",
    "    folder = Directory + '/test/' + category\n",
    "    for img in os.listdir(folder):\n",
    "        img_path = os.path.join(folder , img)\n",
    "        img_arr = cv2.imread(img_path)\n",
    "        if img_arr is None:\n",
    "            pass\n",
    "        else:\n",
    "            img_arr = cv2.resize(img_arr ,(IMG_SIZE,IMG_SIZE))\n",
    "            test_data.append([img_arr , label])"
   ]
  },
  {
   "cell_type": "code",
   "execution_count": 13,
   "id": "7cc5ac42",
   "metadata": {},
   "outputs": [
    {
     "name": "stdout",
     "output_type": "stream",
     "text": [
      "Number of test points : 343\n"
     ]
    }
   ],
   "source": [
    "print(\"Number of test points :\",len(test_data))"
   ]
  },
  {
   "cell_type": "code",
   "execution_count": 14,
   "id": "5527b8c0",
   "metadata": {},
   "outputs": [],
   "source": [
    "random.shuffle(test_data)"
   ]
  },
  {
   "cell_type": "code",
   "execution_count": 15,
   "id": "2610b0dc",
   "metadata": {},
   "outputs": [],
   "source": [
    "X_test,y_test = [],[]\n",
    "\n",
    "for features ,labels in test_data:\n",
    "    X_test.append(features)\n",
    "    y_test.append(labels)"
   ]
  },
  {
   "cell_type": "code",
   "execution_count": 16,
   "id": "343b4518",
   "metadata": {},
   "outputs": [],
   "source": [
    "X_test = np.array(X_test)\n",
    "y_test = np.array(y_test)"
   ]
  },
  {
   "cell_type": "code",
   "execution_count": 17,
   "id": "f1b12e6a",
   "metadata": {},
   "outputs": [],
   "source": [
    "X_test = X_test/255 # normalizing the test set"
   ]
  },
  {
   "cell_type": "code",
   "execution_count": 18,
   "id": "599a8399",
   "metadata": {},
   "outputs": [],
   "source": [
    "model = Sequential()\n",
    "\n",
    "model.add(Conv2D(64 , (3,3) , activation = 'relu'))\n",
    "model.add(MaxPooling2D((2 ,2)))\n",
    "model.add(Conv2D(64 , (3,3) , activation = 'relu'))\n",
    "model.add(MaxPooling2D((2 ,2)))\n",
    "model.add(Conv2D(64 , (3,3) , activation = 'relu'))\n",
    "model.add(MaxPooling2D((2 ,2)))\n",
    "model.add(Flatten())\n",
    "model.add(Dense(128 , input_shape= X.shape , activation='relu'))\n",
    "model.add(Dense(4 , activation='softmax')) # since we have 4 classes"
   ]
  },
  {
   "cell_type": "code",
   "execution_count": 19,
   "id": "c598cbfc",
   "metadata": {},
   "outputs": [],
   "source": [
    "model.compile(optimizer='adam' , loss='sparse_categorical_crossentropy' , metrics = ['accuracy'])"
   ]
  },
  {
   "cell_type": "code",
   "execution_count": 19,
   "id": "284ff15c",
   "metadata": {},
   "outputs": [
    {
     "name": "stdout",
     "output_type": "stream",
     "text": [
      "Epoch 1/20\n",
      "29/29 [==============================] - 36s 1s/step - loss: 1.1005 - accuracy: 0.5264 - val_loss: 1.0436 - val_accuracy: 0.5481\n",
      "Epoch 2/20\n",
      "29/29 [==============================] - 32s 1s/step - loss: 0.8574 - accuracy: 0.6574 - val_loss: 0.7763 - val_accuracy: 0.6939\n",
      "Epoch 3/20\n",
      "29/29 [==============================] - 31s 1s/step - loss: 0.6623 - accuracy: 0.7552 - val_loss: 0.6730 - val_accuracy: 0.7289\n",
      "Epoch 4/20\n",
      "29/29 [==============================] - 31s 1s/step - loss: 0.4969 - accuracy: 0.8121 - val_loss: 0.5967 - val_accuracy: 0.7988\n",
      "Epoch 5/20\n",
      "29/29 [==============================] - 29s 1s/step - loss: 0.4530 - accuracy: 0.8350 - val_loss: 0.5659 - val_accuracy: 0.7930\n",
      "Epoch 6/20\n",
      "29/29 [==============================] - 29s 1s/step - loss: 0.3142 - accuracy: 0.8897 - val_loss: 0.4893 - val_accuracy: 0.8397\n",
      "Epoch 7/20\n",
      "29/29 [==============================] - 32s 1s/step - loss: 0.1911 - accuracy: 0.9327 - val_loss: 0.4760 - val_accuracy: 0.8601\n",
      "Epoch 8/20\n",
      "29/29 [==============================] - 32s 1s/step - loss: 0.1454 - accuracy: 0.9528 - val_loss: 0.3401 - val_accuracy: 0.8834\n",
      "Epoch 9/20\n",
      "29/29 [==============================] - 34s 1s/step - loss: 0.1347 - accuracy: 0.9577 - val_loss: 0.3804 - val_accuracy: 0.9067\n",
      "Epoch 10/20\n",
      "29/29 [==============================] - 43s 1s/step - loss: 0.1075 - accuracy: 0.9695 - val_loss: 0.2958 - val_accuracy: 0.9184\n",
      "Epoch 11/20\n",
      "29/29 [==============================] - 35s 1s/step - loss: 0.0533 - accuracy: 0.9861 - val_loss: 0.4507 - val_accuracy: 0.8717\n",
      "Epoch 12/20\n",
      "29/29 [==============================] - 32s 1s/step - loss: 0.0568 - accuracy: 0.9861 - val_loss: 0.4253 - val_accuracy: 0.9009\n",
      "Epoch 13/20\n",
      "29/29 [==============================] - 31s 1s/step - loss: 0.0392 - accuracy: 0.9861 - val_loss: 0.4360 - val_accuracy: 0.8950\n",
      "Epoch 14/20\n",
      "29/29 [==============================] - 35s 1s/step - loss: 0.0198 - accuracy: 0.9965 - val_loss: 0.4002 - val_accuracy: 0.9096\n",
      "Epoch 15/20\n",
      "29/29 [==============================] - 41s 1s/step - loss: 0.0070 - accuracy: 0.9993 - val_loss: 0.4107 - val_accuracy: 0.9067\n",
      "Epoch 16/20\n",
      "29/29 [==============================] - 41s 1s/step - loss: 0.0023 - accuracy: 1.0000 - val_loss: 0.4027 - val_accuracy: 0.9242\n",
      "Epoch 17/20\n",
      "29/29 [==============================] - 41s 1s/step - loss: 0.0014 - accuracy: 1.0000 - val_loss: 0.4279 - val_accuracy: 0.9096\n",
      "Epoch 18/20\n",
      "29/29 [==============================] - 46s 2s/step - loss: 0.0011 - accuracy: 1.0000 - val_loss: 0.4234 - val_accuracy: 0.9213\n",
      "Epoch 19/20\n",
      "29/29 [==============================] - 45s 2s/step - loss: 7.6336e-04 - accuracy: 1.0000 - val_loss: 0.4376 - val_accuracy: 0.9155\n",
      "Epoch 20/20\n",
      "29/29 [==============================] - 50s 2s/step - loss: 6.4974e-04 - accuracy: 1.0000 - val_loss: 0.4418 - val_accuracy: 0.9184\n"
     ]
    },
    {
     "data": {
      "text/plain": [
       "<keras.callbacks.History at 0x1f560af7730>"
      ]
     },
     "execution_count": 19,
     "metadata": {},
     "output_type": "execute_result"
    }
   ],
   "source": [
    "model.fit(X,y , epochs=20 ,batch_size=50,validation_data = (X_test,y_test))"
   ]
  },
  {
   "cell_type": "code",
   "execution_count": 20,
   "id": "734ddb7b",
   "metadata": {},
   "outputs": [],
   "source": [
    "model.save('cotton_model.h5')"
   ]
  }
 ],
 "metadata": {
  "kernelspec": {
   "display_name": "Python 3 (ipykernel)",
   "language": "python",
   "name": "python3"
  },
  "language_info": {
   "codemirror_mode": {
    "name": "ipython",
    "version": 3
   },
   "file_extension": ".py",
   "mimetype": "text/x-python",
   "name": "python",
   "nbconvert_exporter": "python",
   "pygments_lexer": "ipython3",
   "version": "3.9.12"
  }
 },
 "nbformat": 4,
 "nbformat_minor": 5
}
